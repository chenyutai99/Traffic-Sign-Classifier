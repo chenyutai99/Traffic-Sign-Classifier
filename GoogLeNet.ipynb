{
  "nbformat": 4,
  "nbformat_minor": 0,
  "metadata": {
    "colab": {
      "name": "GoogLeNet.ipynb",
      "provenance": [],
      "collapsed_sections": []
    },
    "kernelspec": {
      "display_name": "Python 3",
      "language": "python",
      "name": "python3"
    },
    "language_info": {
      "codemirror_mode": {
        "name": "ipython",
        "version": 3
      },
      "file_extension": ".py",
      "mimetype": "text/x-python",
      "name": "python",
      "nbconvert_exporter": "python",
      "pygments_lexer": "ipython3",
      "version": "3.5.2"
    }
  },
  "cells": [
    {
      "cell_type": "code",
      "metadata": {
        "colab": {
          "base_uri": "https://localhost:8080/"
        },
        "id": "iFLFmLC79Rt0",
        "outputId": "b2c9a21b-f1e2-4821-9948-76f943610089"
      },
      "source": [
        "%tensorflow_version 1.4.1"
      ],
      "execution_count": null,
      "outputs": [
        {
          "output_type": "stream",
          "text": [
            "`%tensorflow_version` only switches the major version: 1.x or 2.x.\n",
            "You set: `1.4.1`. This will be interpreted as: `1.x`.\n",
            "\n",
            "\n",
            "TensorFlow is already loaded. Please restart the runtime to change versions.\n"
          ],
          "name": "stdout"
        }
      ]
    },
    {
      "cell_type": "code",
      "metadata": {
        "colab": {
          "base_uri": "https://localhost:8080/"
        },
        "id": "cb_edThU8-pe",
        "outputId": "a4f6389f-3866-484e-8010-10e555dbfb2d"
      },
      "source": [
        "import os\n",
        "import pickle\n",
        "import math\n",
        "import random\n",
        "import csv\n",
        "from PIL import Image\n",
        "\n",
        "import matplotlib.pyplot as plt\n",
        "import cv2\n",
        "import numpy as np\n",
        "import tensorflow as tf\n",
        "import tensorflow.contrib.layers as layers\n",
        "from sklearn.utils import shuffle\n",
        "\n",
        "print('All modules imported.')"
      ],
      "execution_count": null,
      "outputs": [
        {
          "output_type": "stream",
          "text": [
            "All modules imported.\n"
          ],
          "name": "stdout"
        }
      ]
    },
    {
      "cell_type": "code",
      "metadata": {
        "colab": {
          "base_uri": "https://localhost:8080/"
        },
        "id": "Xi_GuXxq-FqF",
        "outputId": "2069b352-5131-4dcf-ded6-2ea2f9e06215"
      },
      "source": [
        "from google.colab import drive\n",
        "drive.mount('/content/gdrive')"
      ],
      "execution_count": null,
      "outputs": [
        {
          "output_type": "stream",
          "text": [
            "Mounted at /content/gdrive\n"
          ],
          "name": "stdout"
        }
      ]
    },
    {
      "cell_type": "markdown",
      "metadata": {
        "id": "o2bu2Tdd8-pn"
      },
      "source": [
        "# 1 Reload the preprocessed data"
      ]
    },
    {
      "cell_type": "code",
      "metadata": {
        "colab": {
          "base_uri": "https://localhost:8080/"
        },
        "id": "kMhJFwHg8-po",
        "outputId": "2f1be6ac-1b16-45c6-b862-f00a837ccb86"
      },
      "source": [
        "# 1 Reload the preprocessed data\n",
        "\n",
        "pickle_file = '/content/gdrive/My Drive/Traffic-Sign-Classifier-master/pre-traffic-signs-data/pre-data.pickle'\n",
        "with open(pickle_file, 'rb') as f:\n",
        "    pickle_data = pickle.load(f)\n",
        "    X_train = pickle_data['train_features']\n",
        "    y_train = pickle_data['train_labels']\n",
        "    X_valid = pickle_data['valid_features']\n",
        "    y_valid = pickle_data['valid_labels']\n",
        "    X_test = pickle_data['test_features']\n",
        "    y_test = pickle_data['test_labels']\n",
        "    signnames = pickle_data['signnames']\n",
        "    del pickle_data  # Free up memory\n",
        "    \n",
        "# Shuffle the data set\n",
        "X_train, y_train = shuffle(X_train, y_train)\n",
        "X_valid, y_valid = shuffle(X_valid, y_valid)\n",
        "X_test, y_test = shuffle(X_test, y_test)\n",
        "\n",
        "print(X_train.shape, y_train.shape)\n",
        "print(X_valid.shape, y_valid.shape)\n",
        "print(X_test.shape, y_test.shape)\n",
        "print(len(signnames))\n",
        "print('Data loaded.')"
      ],
      "execution_count": null,
      "outputs": [
        {
          "output_type": "stream",
          "text": [
            "(34799, 32, 32, 3) (34799,)\n",
            "(4410, 32, 32, 3) (4410,)\n",
            "(12630, 32, 32, 3) (12630,)\n",
            "43\n",
            "Data loaded.\n"
          ],
          "name": "stdout"
        }
      ]
    },
    {
      "cell_type": "markdown",
      "metadata": {
        "id": "mLcYi5LK8-pq"
      },
      "source": [
        "# 2 Model Architecture"
      ]
    },
    {
      "cell_type": "markdown",
      "metadata": {
        "id": "EltOcEAA8-pq"
      },
      "source": [
        "## 2.1 Inception model and GoogLeNet"
      ]
    },
    {
      "cell_type": "code",
      "metadata": {
        "id": "4k_ZQo1j8-pr"
      },
      "source": [
        "def Inception(inputs, conv11_size, conv33_11_size, conv33_size,conv55_11_size, conv55_size, pool11_size):\n",
        "    conv11 = layers.conv2d(inputs, conv11_size, [1, 1])\n",
        "    conv33_reduce = layers.conv2d(inputs, conv33_11_size, [1, 1])\n",
        "    conv33 = layers.conv2d(conv33_reduce, conv33_size, [3, 3])\n",
        "    conv55_reduce = layers.conv2d(inputs, conv55_11_size, [1, 1])\n",
        "    conv55 = layers.conv2d(conv55_reduce, conv55_size, [5, 5])\n",
        "    pool_proj = layers.max_pool2d(inputs, [3, 3], stride = 1, padding='SAME')\n",
        "    pool11 = layers.conv2d(pool_proj, pool11_size, [1, 1])\n",
        "    return tf.concat([conv11, conv33, conv55, pool11], 3)\n",
        "\n",
        "def GoogLeNet(inputs, dropout_keep_prob): # inputs size:32x32x3\n",
        "    conv1 = layers.conv2d(inputs, 64, [3, 3], stride = 2) # 16x16x64\n",
        "    \n",
        "    inception_2a = Inception(conv1, 64, 96, 128, 16, 32, 32) # 16x16x256\n",
        "    inception_2b = Inception(inception_2a, 128, 128, 192, 32, 96, 64) # 16x16x480\n",
        "    pool2 = layers.max_pool2d(inception_2b, [3, 3]) # 7x7x480 ? why\n",
        "    \n",
        "    inception_3a = Inception(pool2, 192, 96, 208, 16, 48, 64) # 7x7x512\n",
        "    inception_3b = Inception(inception_3a, 160, 112, 224, 24, 64, 64) # 7x7x512\n",
        "    pool3 = layers.max_pool2d(inception_3b, [3, 3]) # 3x3x512\n",
        "    \n",
        "    inception_4a = Inception(pool3, 256, 160, 320, 32, 128, 128) # 3x3x832\n",
        "    inception_4b = Inception(inception_4a, 384, 192, 384, 48, 128, 128) # 3x3x1024\n",
        "    pool4 = layers.avg_pool2d(inception_4b, [3, 3], stride = 1) \n",
        "\n",
        "    reshape = tf.reshape(pool4, [-1, 1024])\n",
        "    dropout = layers.dropout(reshape, dropout_keep_prob)\n",
        "    logits = layers.fully_connected(dropout, 43, activation_fn=None)\n",
        "    \n",
        "    return logits"
      ],
      "execution_count": null,
      "outputs": []
    },
    {
      "cell_type": "markdown",
      "metadata": {
        "id": "muXd8Q698-ps"
      },
      "source": [
        "# 3 Training"
      ]
    },
    {
      "cell_type": "markdown",
      "metadata": {
        "id": "DaX7udzH8-pt"
      },
      "source": [
        "## 3.1 Strategy"
      ]
    },
    {
      "cell_type": "code",
      "metadata": {
        "id": "5hyZHxwJ8-pu",
        "colab": {
          "base_uri": "https://localhost:8080/"
        },
        "outputId": "21e96a82-5e83-4a94-fc9a-be4568cb1daa"
      },
      "source": [
        "# Placeholder\n",
        "x = tf.placeholder(tf.float32, (None, 32, 32, 3))\n",
        "y = tf.placeholder(tf.int32, (None))\n",
        "one_hot_y = tf.one_hot(y, 43)\n",
        "keep_prob = tf.placeholder_with_default(1.0, shape=())\n",
        "\n",
        "# Hyperparameters\n",
        "LEARNING_RATE = 0.0005\n",
        "EPOCHS = 50\n",
        "BATCH_SIZE = 128\n",
        "\n",
        "# Train method\n",
        "logits = GoogLeNet(x, keep_prob)\n",
        "cross_entropy = tf.nn.softmax_cross_entropy_with_logits(labels=one_hot_y, logits=logits)\n",
        "loss_op = tf.reduce_mean(cross_entropy)\n",
        "optimizer = tf.train.AdamOptimizer(learning_rate = LEARNING_RATE)\n",
        "train_op = optimizer.minimize(loss_op)"
      ],
      "execution_count": null,
      "outputs": [
        {
          "output_type": "stream",
          "text": [
            "WARNING:tensorflow:From /tensorflow-1.15.2/python3.7/tensorflow_core/contrib/layers/python/layers/layers.py:1057: Layer.apply (from tensorflow.python.keras.engine.base_layer) is deprecated and will be removed in a future version.\n",
            "Instructions for updating:\n",
            "Please use `layer.__call__` method instead.\n",
            "WARNING:tensorflow:From <ipython-input-11-841fb9a9cba8>:14: softmax_cross_entropy_with_logits (from tensorflow.python.ops.nn_ops) is deprecated and will be removed in a future version.\n",
            "Instructions for updating:\n",
            "\n",
            "Future major versions of TensorFlow will allow gradients to flow\n",
            "into the labels input on backprop by default.\n",
            "\n",
            "See `tf.nn.softmax_cross_entropy_with_logits_v2`.\n",
            "\n"
          ],
          "name": "stdout"
        }
      ]
    },
    {
      "cell_type": "markdown",
      "metadata": {
        "id": "JlRGzFa78-pv"
      },
      "source": [
        "## 3.2 Evaluation"
      ]
    },
    {
      "cell_type": "code",
      "metadata": {
        "id": "0oOmYDgM8-pv"
      },
      "source": [
        "correct_prediction = tf.equal(tf.argmax(logits, 1), tf.argmax(one_hot_y, 1))\n",
        "accuracy_op = tf.reduce_mean(tf.cast(correct_prediction, tf.float32))\n",
        "\n",
        "def evaluate(X_data, y_data):\n",
        "    num_examples = len(X_data)\n",
        "    total_accuracy = 0\n",
        "    sess = tf.get_default_session()\n",
        "#     with tf.Session() as sess:\n",
        "#         sess.run(tf.global_variables_initializer())\n",
        "    for offset in range(0, num_examples, BATCH_SIZE):\n",
        "        batch_x, batch_y = X_data[offset:offset + BATCH_SIZE], y_data[offset:offset + BATCH_SIZE]\n",
        "        accuracy, loss = sess.run([accuracy_op,loss_op], feed_dict={x: batch_x, y: batch_y})\n",
        "        total_accuracy += (accuracy * len(batch_x))\n",
        "    return total_accuracy / num_examples, loss"
      ],
      "execution_count": null,
      "outputs": []
    },
    {
      "cell_type": "markdown",
      "metadata": {
        "id": "QImKwgwt8-pw"
      },
      "source": [
        "## 3.3 Train the Model\n",
        "A validation set can be used to assess how well the model is performing. A low accuracy on the training and validation sets imply underfitting. A high accuracy on the training set but low accuracy on the validation set implies overfitting."
      ]
    },
    {
      "cell_type": "code",
      "metadata": {
        "colab": {
          "base_uri": "https://localhost:8080/"
        },
        "id": "M8jVSmgm8-px",
        "scrolled": false,
        "outputId": "ec41bbff-499a-4649-8f3d-52432e42f07d"
      },
      "source": [
        "%%time\n",
        "saver = tf.train.Saver()\n",
        "train_accuracy = []\n",
        "valid_accuracy = []\n",
        "learning_rates = []\n",
        "train_losses = []\n",
        "valid_losses = []\n",
        "with tf.Session() as sess:\n",
        "    sess.run(tf.global_variables_initializer())\n",
        "    num_examples = len(X_train)\n",
        "    print(\"Training...\")\n",
        "    for i in range(EPOCHS):\n",
        "        X_train, y_train = shuffle(X_train, y_train)\n",
        "        total_train_acc = 0\n",
        "        print(\"EPOCH {} :\".format(i+1), end=' ')\n",
        "        for offset in range(0, num_examples, BATCH_SIZE):\n",
        "            end = offset + BATCH_SIZE\n",
        "            batch_x, batch_y = X_train[offset:end], y_train[offset:end]\n",
        "            _, train_loss = sess.run([train_op, loss_op], feed_dict={x: batch_x, y: batch_y, keep_prob: 0.5})\n",
        "            _, train_acc = sess.run([train_op, accuracy_op], feed_dict={x: batch_x, y: batch_y, keep_prob: 0.5})\n",
        "            total_train_acc += (train_acc * len(batch_x))\n",
        "            train_losses.append(train_loss)\n",
        "        train_accuracy.append(total_train_acc / num_examples)\n",
        "        valid_acc, valid_loss = evaluate(X_valid, y_valid)\n",
        "        valid_accuracy.append(valid_acc)\n",
        "        print(\"Validation Accuracy = {:.3f}\".format(valid_acc))\n",
        "        valid_losses.append(valid_loss)\n",
        "        \n",
        "    saver.save(sess, '/content/gdrive/My Drive/Traffic-Sign-Classifier-master/model/googlenet.ckpt')\n",
        "    print(\"Model saved\")"
      ],
      "execution_count": null,
      "outputs": [
        {
          "output_type": "stream",
          "text": [
            "Training...\n",
            "EPOCH 1 : Validation Accuracy = 0.865\n",
            "EPOCH 2 : Validation Accuracy = 0.931\n",
            "EPOCH 3 : Validation Accuracy = 0.949\n",
            "EPOCH 4 : Validation Accuracy = 0.937\n",
            "EPOCH 5 : Validation Accuracy = 0.976\n",
            "EPOCH 6 : Validation Accuracy = 0.965\n",
            "EPOCH 7 : Validation Accuracy = 0.956\n",
            "EPOCH 8 : Validation Accuracy = 0.967\n",
            "EPOCH 9 : Validation Accuracy = 0.944\n",
            "EPOCH 10 : Validation Accuracy = 0.973\n",
            "EPOCH 11 : Validation Accuracy = 0.960\n",
            "EPOCH 12 : Validation Accuracy = 0.973\n",
            "EPOCH 13 : Validation Accuracy = 0.973\n",
            "EPOCH 14 : Validation Accuracy = 0.967\n",
            "EPOCH 15 : Validation Accuracy = 0.984\n",
            "EPOCH 16 : Validation Accuracy = 0.977\n",
            "EPOCH 17 : Validation Accuracy = 0.968\n",
            "EPOCH 18 : Validation Accuracy = 0.983\n",
            "EPOCH 19 : Validation Accuracy = 0.984\n",
            "EPOCH 20 : Validation Accuracy = 0.975\n",
            "EPOCH 21 : Validation Accuracy = 0.970\n",
            "EPOCH 22 : Validation Accuracy = 0.982\n",
            "EPOCH 23 : Validation Accuracy = 0.977\n",
            "EPOCH 24 : Validation Accuracy = 0.978\n",
            "EPOCH 25 : Validation Accuracy = 0.969\n",
            "EPOCH 26 : Validation Accuracy = 0.981\n",
            "EPOCH 27 : Validation Accuracy = 0.972\n",
            "EPOCH 28 : Validation Accuracy = 0.976\n",
            "EPOCH 29 : Validation Accuracy = 0.975\n",
            "EPOCH 30 : Validation Accuracy = 0.976\n",
            "EPOCH 31 : Validation Accuracy = 0.979\n",
            "EPOCH 32 : Validation Accuracy = 0.983\n",
            "EPOCH 33 : Validation Accuracy = 0.982\n",
            "EPOCH 34 : Validation Accuracy = 0.984\n",
            "EPOCH 35 : Validation Accuracy = 0.984\n",
            "EPOCH 36 : Validation Accuracy = 0.985\n",
            "EPOCH 37 : Validation Accuracy = 0.984\n",
            "EPOCH 38 : Validation Accuracy = 0.984\n",
            "EPOCH 39 : Validation Accuracy = 0.984\n",
            "EPOCH 40 : Validation Accuracy = 0.974\n",
            "EPOCH 41 : Validation Accuracy = 0.979\n",
            "EPOCH 42 : Validation Accuracy = 0.980\n",
            "EPOCH 43 : Validation Accuracy = 0.981\n",
            "EPOCH 44 : Validation Accuracy = 0.978\n",
            "EPOCH 45 : Validation Accuracy = 0.978\n",
            "EPOCH 46 : Validation Accuracy = 0.979\n",
            "EPOCH 47 : Validation Accuracy = 0.979\n",
            "EPOCH 48 : Validation Accuracy = 0.978\n",
            "EPOCH 49 : Validation Accuracy = 0.979\n",
            "EPOCH 50 : Validation Accuracy = 0.979\n",
            "Model saved\n",
            "CPU times: user 21min 57s, sys: 14.3 s, total: 22min 11s\n",
            "Wall time: 27min 41s\n"
          ],
          "name": "stdout"
        }
      ]
    },
    {
      "cell_type": "markdown",
      "metadata": {
        "id": "34QuqPCh8-py"
      },
      "source": [
        "#### Plot the accuracy of training and validation operation"
      ]
    },
    {
      "cell_type": "code",
      "metadata": {
        "colab": {
          "base_uri": "https://localhost:8080/",
          "height": 449
        },
        "id": "3rFOHd9P8-pz",
        "outputId": "a581121d-1b4a-4c64-b060-44b46ea0d642"
      },
      "source": [
        "plt.subplot(2, 1, 2)\n",
        "plt.plot(train_accuracy, label='train')\n",
        "plt.plot(valid_accuracy, label='valid')\n",
        "plt.title('Accuracy history')\n",
        "plt.xlabel('Epoch')\n",
        "plt.ylabel('Accuracy')\n",
        "plt.gcf().set_size_inches(15, 15)\n",
        "plt.legend()\n",
        "plt.savefig('/content/gdrive/My Drive/Traffic-Sign-Classifier-master/result_images/GoogLeNet_acc.png')\n",
        "plt.show()"
      ],
      "execution_count": null,
      "outputs": [
        {
          "output_type": "display_data",
          "data": {
            "image/png": "[encoded data removed]",
            "text/plain": [
              "<Figure size 1080x1080 with 1 Axes>"
            ]
          },
          "metadata": {
            "tags": [],
            "needs_background": "light"
          }
        }
      ]
    },
    {
      "cell_type": "code",
      "metadata": {
        "colab": {
          "base_uri": "https://localhost:8080/",
          "height": 236
        },
        "id": "ZcwW9IiNluqb",
        "outputId": "ac784657-4576-467e-bbff-640be2a29763"
      },
      "source": [
        "plt.subplot(2, 1, 2)\n",
        "plt.plot(train_losses, label='train_loss')\n",
        "plt.plot([(i+1) * int(num_examples / BATCH_SIZE) for i in range(EPOCHS)], valid_losses, label='val_loss')\n",
        "plt.title('Loss History')\n",
        "\n",
        "plt.ylabel('Loss')\n",
        "plt.gcf().set_size_inches(15, 12)\n",
        "plt.legend()\n",
        "plt.savefig('/content/gdrive/My Drive/Traffic-Sign-Classifier-master/result_images/GoogLeNet_loss.png')\n",
        "plt.show()"
      ],
      "execution_count": null,
      "outputs": [
        {
          "output_type": "error",
          "ename": "NameError",
          "evalue": "ignored",
          "traceback": [
            "\u001b[0;31m---------------------------------------------------------------------------\u001b[0m",
            "\u001b[0;31mNameError\u001b[0m                                 Traceback (most recent call last)",
            "\u001b[0;32m<ipython-input-1-a2da8c948bc8>\u001b[0m in \u001b[0;36m<module>\u001b[0;34m()\u001b[0m\n\u001b[0;32m----> 1\u001b[0;31m \u001b[0mplt\u001b[0m\u001b[0;34m.\u001b[0m\u001b[0msubplot\u001b[0m\u001b[0;34m(\u001b[0m\u001b[0;36m2\u001b[0m\u001b[0;34m,\u001b[0m \u001b[0;36m1\u001b[0m\u001b[0;34m,\u001b[0m \u001b[0;36m2\u001b[0m\u001b[0;34m)\u001b[0m\u001b[0;34m\u001b[0m\u001b[0;34m\u001b[0m\u001b[0m\n\u001b[0m\u001b[1;32m      2\u001b[0m \u001b[0mplt\u001b[0m\u001b[0;34m.\u001b[0m\u001b[0mplot\u001b[0m\u001b[0;34m(\u001b[0m\u001b[0mtrain_losses\u001b[0m\u001b[0;34m,\u001b[0m \u001b[0mlabel\u001b[0m\u001b[0;34m=\u001b[0m\u001b[0;34m'train_loss'\u001b[0m\u001b[0;34m)\u001b[0m\u001b[0;34m\u001b[0m\u001b[0;34m\u001b[0m\u001b[0m\n\u001b[1;32m      3\u001b[0m \u001b[0mplt\u001b[0m\u001b[0;34m.\u001b[0m\u001b[0mplot\u001b[0m\u001b[0;34m(\u001b[0m\u001b[0;34m[\u001b[0m\u001b[0;34m(\u001b[0m\u001b[0mi\u001b[0m\u001b[0;34m+\u001b[0m\u001b[0;36m1\u001b[0m\u001b[0;34m)\u001b[0m \u001b[0;34m*\u001b[0m \u001b[0mint\u001b[0m\u001b[0;34m(\u001b[0m\u001b[0mnum_examples\u001b[0m \u001b[0;34m/\u001b[0m \u001b[0mBATCH_SIZE\u001b[0m\u001b[0;34m)\u001b[0m \u001b[0;32mfor\u001b[0m \u001b[0mi\u001b[0m \u001b[0;32min\u001b[0m \u001b[0mrange\u001b[0m\u001b[0;34m(\u001b[0m\u001b[0mEPOCHS\u001b[0m\u001b[0;34m)\u001b[0m\u001b[0;34m]\u001b[0m\u001b[0;34m,\u001b[0m \u001b[0mvalid_losses\u001b[0m\u001b[0;34m,\u001b[0m \u001b[0mlabel\u001b[0m\u001b[0;34m=\u001b[0m\u001b[0;34m'val_loss'\u001b[0m\u001b[0;34m)\u001b[0m\u001b[0;34m\u001b[0m\u001b[0;34m\u001b[0m\u001b[0m\n\u001b[1;32m      4\u001b[0m \u001b[0mplt\u001b[0m\u001b[0;34m.\u001b[0m\u001b[0mtitle\u001b[0m\u001b[0;34m(\u001b[0m\u001b[0;34m'Loss History'\u001b[0m\u001b[0;34m)\u001b[0m\u001b[0;34m\u001b[0m\u001b[0;34m\u001b[0m\u001b[0m\n\u001b[1;32m      5\u001b[0m \u001b[0;34m\u001b[0m\u001b[0m\n",
            "\u001b[0;31mNameError\u001b[0m: name 'plt' is not defined"
          ]
        }
      ]
    },
    {
      "cell_type": "markdown",
      "metadata": {
        "id": "pSEAfolL8-p0"
      },
      "source": [
        "# 4 Testing"
      ]
    },
    {
      "cell_type": "markdown",
      "metadata": {
        "id": "NiYsBvlt8-p0"
      },
      "source": [
        "## 4.1 Test the model on testing dataset"
      ]
    },
    {
      "cell_type": "code",
      "metadata": {
        "colab": {
          "base_uri": "https://localhost:8080/"
        },
        "id": "oBiOhUKz8-p1",
        "outputId": "e10ed2ae-13bb-4475-c0b3-b3758bd0afd1"
      },
      "source": [
        "saver = tf.train.import_meta_graph('/content/gdrive/My Drive/Traffic-Sign-Classifier-master/model/googlenet.ckpt.meta')\n",
        "with tf.Session() as sess:\n",
        "    saver.restore(sess, '/content/gdrive/My Drive/Traffic-Sign-Classifier-master/model/googlenet.ckpt')"
      ],
      "execution_count": null,
      "outputs": [
        {
          "output_type": "stream",
          "text": [
            "INFO:tensorflow:Restoring parameters from /content/gdrive/My Drive/Traffic-Sign-Classifier-master/model/googlenet.ckpt\n"
          ],
          "name": "stdout"
        }
      ]
    },
    {
      "cell_type": "code",
      "metadata": {
        "colab": {
          "base_uri": "https://localhost:8080/",
          "height": 236
        },
        "id": "RlAR98gq8-p2",
        "outputId": "9f99cf97-8934-4b64-defc-5267bc8652d5"
      },
      "source": [
        "def evaluate_compare(X_data, y_data):\n",
        "    num_examples = len(X_data)\n",
        "    total_accuracy = 0\n",
        "    sess = tf.get_default_session()\n",
        "#     with tf.Session() as sess:\n",
        "#         sess.run(tf.global_variables_initializer())\n",
        "    for offset in range(0, num_examples, BATCH_SIZE):\n",
        "        batch_x, batch_y = X_data[offset:offset + BATCH_SIZE], y_data[offset:offset + BATCH_SIZE]\n",
        "        accuracy, loss = sess.run([accuracy_op,loss_op], feed_dict={x: batch_x, y: batch_y})\n",
        "        total_accuracy += (accuracy * len(batch_x))\n",
        "    return total_accuracy / num_examples\n",
        "\n",
        "with tf.Session() as sess:\n",
        "    saver.restore(sess, '/content/gdrive/My Drive/Traffic-Sign-Classifier-master/model/googlenet.ckpt')\n",
        "#     sess.run(tf.global_variables_initializer())\n",
        "    train_accuracy = evaluate_compare(X_train, y_train)\n",
        "    valid_accuracy = evaluate_compare(X_valid, y_valid)\n",
        "    test_accuracy = evaluate_compare(X_test, y_test)\n",
        "    \n",
        "accuracys = [train_accuracy, valid_accuracy, test_accuracy]\n",
        "tick_labels = [\"training set\", \"validation set\", \"testing set\"]\n",
        "plt.bar(range(3), accuracys)\n",
        "plt.xlabel('data set')\n",
        "plt.ylabel('accuracy')\n",
        "plt.xticks(range(3), tick_labels)\n",
        "for x_,y_ in zip(range(3), accuracys):\n",
        "    plt.text(x_ - 0.1, y_, '%.3f'%y_)\n",
        "plt.savefig('/content/gdrive/My Drive/Traffic-Sign-Classifier-master/result_images/GoogLeNet_cf.png')\n",
        "plt.show()"
      ],
      "execution_count": null,
      "outputs": [
        {
          "output_type": "error",
          "ename": "NameError",
          "evalue": "ignored",
          "traceback": [
            "\u001b[0;31m---------------------------------------------------------------------------\u001b[0m",
            "\u001b[0;31mNameError\u001b[0m                                 Traceback (most recent call last)",
            "\u001b[0;32m<ipython-input-12-775e2616dbd3>\u001b[0m in \u001b[0;36m<module>\u001b[0;34m()\u001b[0m\n\u001b[1;32m     12\u001b[0m \u001b[0;34m\u001b[0m\u001b[0m\n\u001b[1;32m     13\u001b[0m \u001b[0;32mwith\u001b[0m \u001b[0mtf\u001b[0m\u001b[0;34m.\u001b[0m\u001b[0mSession\u001b[0m\u001b[0;34m(\u001b[0m\u001b[0;34m)\u001b[0m \u001b[0;32mas\u001b[0m \u001b[0msess\u001b[0m\u001b[0;34m:\u001b[0m\u001b[0;34m\u001b[0m\u001b[0;34m\u001b[0m\u001b[0m\n\u001b[0;32m---> 14\u001b[0;31m     \u001b[0msaver\u001b[0m\u001b[0;34m.\u001b[0m\u001b[0mrestore\u001b[0m\u001b[0;34m(\u001b[0m\u001b[0msess\u001b[0m\u001b[0;34m,\u001b[0m \u001b[0;34m'/content/gdrive/My Drive/Traffic-Sign-Classifier-master/model/googlenet.ckpt'\u001b[0m\u001b[0;34m)\u001b[0m\u001b[0;34m\u001b[0m\u001b[0;34m\u001b[0m\u001b[0m\n\u001b[0m\u001b[1;32m     15\u001b[0m \u001b[0;31m#     sess.run(tf.global_variables_initializer())\u001b[0m\u001b[0;34m\u001b[0m\u001b[0;34m\u001b[0m\u001b[0;34m\u001b[0m\u001b[0m\n\u001b[1;32m     16\u001b[0m     \u001b[0mtrain_accuracy\u001b[0m \u001b[0;34m=\u001b[0m \u001b[0mevaluate_compare\u001b[0m\u001b[0;34m(\u001b[0m\u001b[0mX_train\u001b[0m\u001b[0;34m,\u001b[0m \u001b[0my_train\u001b[0m\u001b[0;34m)\u001b[0m\u001b[0;34m\u001b[0m\u001b[0;34m\u001b[0m\u001b[0m\n",
            "\u001b[0;31mNameError\u001b[0m: name 'saver' is not defined"
          ]
        }
      ]
    },
    {
      "cell_type": "markdown",
      "metadata": {
        "id": "Qi1SFnAb8-p3"
      },
      "source": [
        "## 4.2 Test the Model on New Images"
      ]
    },
    {
      "cell_type": "code",
      "metadata": {
        "colab": {
          "base_uri": "https://localhost:8080/",
          "height": 149
        },
        "id": "OIIii6p18-p3",
        "outputId": "77d90f92-86c1-4b00-e4a6-d14f54876772"
      },
      "source": [
        "online_images = []\n",
        "online_labels = [0, 9, 12, 14, 17, 22, 25, 26, 31, 35]\n",
        "\n",
        "for i in range(1, 11):\n",
        "    image = plt.imread('/content/gdrive/My Drive/Traffic-Sign-Classifier-master/test_images/' + str(i) +'.jpeg')\n",
        "    image_reshape = cv2.resize(image,(32, 32), interpolation = cv2.INTER_CUBIC)\n",
        "    online_images.append(image_reshape)\n",
        "\n",
        "plt.figure(figsize=(25, 10))\n",
        "plt.subplots_adjust(hspace = .1, wspace=.1)\n",
        "for i in range(len(online_images)):\n",
        "    plt.subplot(1, 10, i + 1)\n",
        "    plt.imshow(online_images[i])\n",
        "    plt.title(signnames[int(online_labels[i])])\n",
        "    plt.xticks([]), plt.yticks([])\n",
        "plt.savefig('/content/gdrive/My Drive/Traffic-Sign-Classifier-master/result_images/GoogLeNet_online image.jpg')\n",
        "\n",
        "online_images = np.array(online_images)\n",
        "online_images = online_images.astype(np.float32) / 128. - 1.\n",
        "online_labels = np.array(online_labels)"
      ],
      "execution_count": null,
      "outputs": [
        {
          "output_type": "display_data",
          "data": {
            "image/png": "[encoded data removed]",
            "text/plain": [
              "<Figure size 1800x720 with 10 Axes>"
            ]
          },
          "metadata": {
            "tags": []
          }
        }
      ]
    },
    {
      "cell_type": "markdown",
      "metadata": {
        "id": "CIV9TUZ48-p5"
      },
      "source": [
        "### Predict the Sign Type for Each Image"
      ]
    },
    {
      "cell_type": "code",
      "metadata": {
        "colab": {
          "base_uri": "https://localhost:8080/",
          "height": 253
        },
        "id": "gBsO-yWB8-p6",
        "outputId": "c7b20d5c-23dd-402e-a85e-68312ccd5ad7"
      },
      "source": [
        "with tf.Session() as sess:\n",
        "    saver.restore(sess, '/content/gdrive/My Drive/Traffic-Sign-Classifier-master/model/googlenet.ckpt')\n",
        "    test_accuracy = evaluate(online_images, online_labels)\n",
        "    print(\"Test Accuracy = {:.3f}\".format(test_accuracy))   \n",
        "    logits_value = sess.run(logits, feed_dict={x: online_images})\n",
        "    probabilities = sess.run(tf.nn.softmax(logits_value))\n",
        "    \n",
        "predict = probabilities.argmax(axis=1)\n",
        "print(\"Predict the Sign Type for Each Image\")\n",
        "print(predict)"
      ],
      "execution_count": null,
      "outputs": [
        {
          "output_type": "stream",
          "text": [
            "INFO:tensorflow:Restoring parameters from /content/gdrive/My Drive/Traffic-Sign-Classifier-master/model/googlenet.ckpt\n"
          ],
          "name": "stdout"
        },
        {
          "output_type": "error",
          "ename": "TypeError",
          "evalue": "ignored",
          "traceback": [
            "\u001b[0;31m---------------------------------------------------------------------------\u001b[0m",
            "\u001b[0;31mTypeError\u001b[0m                                 Traceback (most recent call last)",
            "\u001b[0;32m<ipython-input-15-75db797c4e5e>\u001b[0m in \u001b[0;36m<module>\u001b[0;34m()\u001b[0m\n\u001b[1;32m      2\u001b[0m     \u001b[0msaver\u001b[0m\u001b[0;34m.\u001b[0m\u001b[0mrestore\u001b[0m\u001b[0;34m(\u001b[0m\u001b[0msess\u001b[0m\u001b[0;34m,\u001b[0m \u001b[0;34m'/content/gdrive/My Drive/Traffic-Sign-Classifier-master/model/googlenet.ckpt'\u001b[0m\u001b[0;34m)\u001b[0m\u001b[0;34m\u001b[0m\u001b[0;34m\u001b[0m\u001b[0m\n\u001b[1;32m      3\u001b[0m     \u001b[0mtest_accuracy\u001b[0m \u001b[0;34m=\u001b[0m \u001b[0mevaluate\u001b[0m\u001b[0;34m(\u001b[0m\u001b[0monline_images\u001b[0m\u001b[0;34m,\u001b[0m \u001b[0monline_labels\u001b[0m\u001b[0;34m)\u001b[0m\u001b[0;34m\u001b[0m\u001b[0;34m\u001b[0m\u001b[0m\n\u001b[0;32m----> 4\u001b[0;31m     \u001b[0mprint\u001b[0m\u001b[0;34m(\u001b[0m\u001b[0;34m\"Test Accuracy = {:.3f}\"\u001b[0m\u001b[0;34m.\u001b[0m\u001b[0mformat\u001b[0m\u001b[0;34m(\u001b[0m\u001b[0mtest_accuracy\u001b[0m\u001b[0;34m)\u001b[0m\u001b[0;34m)\u001b[0m\u001b[0;34m\u001b[0m\u001b[0;34m\u001b[0m\u001b[0m\n\u001b[0m\u001b[1;32m      5\u001b[0m     \u001b[0mlogits_value\u001b[0m \u001b[0;34m=\u001b[0m \u001b[0msess\u001b[0m\u001b[0;34m.\u001b[0m\u001b[0mrun\u001b[0m\u001b[0;34m(\u001b[0m\u001b[0mlogits\u001b[0m\u001b[0;34m,\u001b[0m \u001b[0mfeed_dict\u001b[0m\u001b[0;34m=\u001b[0m\u001b[0;34m{\u001b[0m\u001b[0mx\u001b[0m\u001b[0;34m:\u001b[0m \u001b[0monline_images\u001b[0m\u001b[0;34m}\u001b[0m\u001b[0;34m)\u001b[0m\u001b[0;34m\u001b[0m\u001b[0;34m\u001b[0m\u001b[0m\n\u001b[1;32m      6\u001b[0m     \u001b[0mprobabilities\u001b[0m \u001b[0;34m=\u001b[0m \u001b[0msess\u001b[0m\u001b[0;34m.\u001b[0m\u001b[0mrun\u001b[0m\u001b[0;34m(\u001b[0m\u001b[0mtf\u001b[0m\u001b[0;34m.\u001b[0m\u001b[0mnn\u001b[0m\u001b[0;34m.\u001b[0m\u001b[0msoftmax\u001b[0m\u001b[0;34m(\u001b[0m\u001b[0mlogits_value\u001b[0m\u001b[0;34m)\u001b[0m\u001b[0;34m)\u001b[0m\u001b[0;34m\u001b[0m\u001b[0;34m\u001b[0m\u001b[0m\n",
            "\u001b[0;31mTypeError\u001b[0m: unsupported format string passed to tuple.__format__"
          ]
        }
      ]
    },
    {
      "cell_type": "markdown",
      "metadata": {
        "id": "DBIgazHr8-p7"
      },
      "source": [
        "### Output Top 5 Softmax Probabilities For Each Image Found on the Web"
      ]
    },
    {
      "cell_type": "code",
      "metadata": {
        "id": "3pX9JxZN8-p7"
      },
      "source": [
        "### Print out the top five softmax probabilities for the predictions on the German traffic sign images found on the web. \n",
        "with tf.Session() as sess:\n",
        "    top5 = sess.run(tf.nn.top_k(tf.constant(probabilities), k=5))\n",
        "\n",
        "values = top5.values\n",
        "indices = top5.indices\n",
        "fig, axes = plt.subplots(2, 5, figsize=(25, 8))\n",
        "for i in range(2):\n",
        "    for j in range(5):\n",
        "        axes[i][j].bar(range(5), values[i*5+j])\n",
        "        axes[i][j].set_xticklabels(indices[i*5+j])\n",
        "        axes[i][j].set_title(\"answer: \"+str(online_labels[i*5+j]))\n",
        "        for x_,y_ in zip(range(5), values[i*5+j]):\n",
        "            axes[i][j].text(x_ - 0.25, y_, '%.3f'%y_)"
      ],
      "execution_count": null,
      "outputs": []
    },
    {
      "cell_type": "markdown",
      "metadata": {
        "id": "UgCnjLSh4RGX"
      },
      "source": [
        "### Output Confusion Matrix"
      ]
    },
    {
      "cell_type": "code",
      "metadata": {
        "colab": {
          "base_uri": "https://localhost:8080/"
        },
        "id": "zBLSak8V8-p8",
        "outputId": "79e73e86-0cbc-4743-81df-78c85d7f817d"
      },
      "source": [
        "with tf.Session() as sess:\n",
        "    saver.restore(sess, '/content/gdrive/My Drive/Traffic-Sign-Classifier-master/model/googlenet.ckpt')\n",
        "    test_accuracy = evaluate(X_test, y_test)\n",
        "    logits_value = sess.run(logits, feed_dict={x: X_test})\n",
        "    probabilities = sess.run(tf.nn.softmax(logits_value))\n",
        "    \n",
        "predict = probabilities.argmax(axis=1)\n",
        "pd.crosstab(y_test, predict, rownames = ['label'], colnames = ['predict'])"
      ],
      "execution_count": null,
      "outputs": [
        {
          "output_type": "stream",
          "text": [
            "INFO:tensorflow:Restoring parameters from /content/gdrive/My Drive/Traffic-Sign-Classifier-master/model/googlenet.ckpt\n"
          ],
          "name": "stdout"
        }
      ]
    }
  ]
}